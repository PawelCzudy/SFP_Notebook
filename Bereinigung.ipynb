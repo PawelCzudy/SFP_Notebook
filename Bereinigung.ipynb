{
 "cells": [
  {
   "cell_type": "code",
   "execution_count": 2,
   "id": "c9559192",
   "metadata": {},
   "outputs": [],
   "source": [
    "import pandas as pd\n",
    "from datetime import datetime\n",
    "import re\n",
    "\n",
    "FILE = \"D:/AWIS/Semester_03/SFP/Webscraper_Autoscout/SFP_Workspace/car_data_csv.csv\""
   ]
  },
  {
   "cell_type": "code",
   "execution_count": null,
   "id": "2a09a5b1",
   "metadata": {},
   "outputs": [],
   "source": [
    "# Bereinigung der Daten in der Spalte column_name um value\n",
    "# isRegex gibt an, ob value ein regulärer Ausdruck ist\n",
    "def replace_by_header(column_name, filename, value, isRegex):      \n",
    "    df = pd.read_csv(filename, sep=';')\n",
    "    if column_name in df.columns:\n",
    "        df[column_name] = df[column_name].replace(value, '', regex=isRegex)\n",
    "    df.to_csv(filename, index = False, sep=';')\n",
    "\n",
    "# Berenigung der Spalten Schadstoffklasse, CO₂-Emissionen2 und Leistung zu numerischen Werten\n",
    "replace_by_header(\"Schadstoffklasse\", FILE, \"Euro\", False)\n",
    "replace_by_header(\"CO₂-Emissionen2\",FILE, \"g/(komb.)\", False)\n",
    "replace_by_header(\"Leistung\",FILE, r\"\\(\\d+PS\\)\", True)"
   ]
  },
  {
   "cell_type": "markdown",
   "id": "cec81e80",
   "metadata": {},
   "source": []
  },
  {
   "cell_type": "code",
   "execution_count": null,
   "id": "64c59942",
   "metadata": {},
   "outputs": [],
   "source": [
    "# Berenigung kann nur gestartet werden wenn die Spalten im Fromat 'MM.YYYY' oder 'DD.MM.YYYY' vorhanden sind\n",
    "# vereinheitlicht die Spalten Erstzulassung und HU zur Anzahl der Monate oder Jahre\n",
    "def clean_column(column_name, filename):\n",
    "    df = pd.read_csv(filename, sep=';')\n",
    "    if column_name in df.columns:\n",
    "        df[column_name] = df[column_name].apply(lambda x: 24 if x == 'Neu' else (berechne_differenz(x, True) if re.match(r\"\\d{2}/\\d{4}\", x) else berechne_differenz(x, False)))\n",
    "    df.to_csv(filename, index = False, sep=';')\n",
    "\n",
    "# berechnet die Differenz zwischen dem aktuellen Datum und dem übergebenen Datum\n",
    "def berechne_differenz(datum, monate):\n",
    "    datum = pd.to_datetime(datum)\n",
    "    aktuelles_datum = datetime.now()  \n",
    "    if monate:\n",
    "        differenz = (datum.year - aktuelles_datum.year) * 12 + datum.month - aktuelles_datum.month\n",
    "    else:\n",
    "        differenz = aktuelles_datum.year - datum.year\n",
    "    return differenz\n",
    "\n",
    "# Vereinheitlichen der Spalten Erstzulassung \n",
    "clean_column(\"Erstzulassung\", FILE)\n",
    "clean_column(\"HU\", FILE)"
   ]
  },
  {
   "cell_type": "code",
   "execution_count": 3,
   "id": "98b9bb9f",
   "metadata": {},
   "outputs": [],
   "source": [
    "# ersetzt alle Werte, die in der Spalte column_name enthalten sind, durch new_value, wenn substring in dem Wert enthalten ist\n",
    "def replace_by_header_contains(column_name, filename, substring, new_value):\n",
    "    df = pd.read_csv(filename, sep=';')\n",
    "    if column_name in df.columns:\n",
    "        df[column_name] = df[column_name].apply(lambda x: new_value if substring in str(x) else x)\n",
    "    df.to_csv(filename, index=False, sep=';')\n",
    "\n",
    "# Vereinheitlichen der Kraftstoffe in die Klassen Benzin, Diesel und Gas\n",
    "replace_by_header_contains(\"Kraftstoff\", FILE, \"Benzin\", \"Benzin\")\n",
    "replace_by_header_contains(\"Kraftstoff\", FILE, \"Super\", \"Benzin\")\n",
    "replace_by_header_contains(\"Kraftstoff\", FILE, \"Diesel\", \"Diesel\")\n",
    "replace_by_header_contains(\"Kraftstoff\", FILE, \"gas\", \"Gas\")\n",
    "\n",
    "# Vereinheitlichen der Schadstoffklassen 6, 6c, 6d und 6-d-TEMP zur Klasse 6\n",
    "replace_by_header_contains(\"Schadstoffklasse\", FILE, \"d\", \"6\")\n",
    "replace_by_header_contains(\"Schadstoffklasse\", FILE, \"c\", \"6\")\n",
    "\n",
    "# Vereinheitlichen der Variable Anzahl Türen -> 3/5 Türer\n",
    "replace_by_header_contains(\"Türen\", FILE, \"2\", \"3\")\n",
    "replace_by_header_contains(\"Türen\", FILE, \"4\", \"5\")\n",
    "\n",
    "#Alle Fahrzeuge ohne einer aktuellen Hauptuntersuchung werden auf 0 gesetzt -> 0 representiert abgelaufene HU\n",
    "replace_by_header_contains(\"HU\", FILE, \"-\", \"0\")"
   ]
  },
  {
   "cell_type": "markdown",
   "id": "66c749aa",
   "metadata": {},
   "source": []
  }
 ],
 "metadata": {
  "kernelspec": {
   "display_name": "Python 3 (ipykernel)",
   "language": "python",
   "name": "python3"
  },
  "language_info": {
   "codemirror_mode": {
    "name": "ipython",
    "version": 3
   },
   "file_extension": ".py",
   "mimetype": "text/x-python",
   "name": "python",
   "nbconvert_exporter": "python",
   "pygments_lexer": "ipython3",
   "version": "3.12.0"
  }
 },
 "nbformat": 4,
 "nbformat_minor": 5
}
