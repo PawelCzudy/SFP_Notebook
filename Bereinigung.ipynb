{
 "cells": [
  {
   "cell_type": "code",
   "execution_count": 3,
   "id": "c9559192",
   "metadata": {},
   "outputs": [],
   "source": [
    "import pandas as pd\n",
    "\n",
    "FILE = \"D:/Ibo/SFP/SFP_Notebook/car_data_csv.csv\"\n",
    "\n",
    "def replace_by_header(column_name, filename, value, isRegex):      \n",
    "    df = pd.read_csv(filename, sep=';')\n",
    "    if column_name in df.columns:\n",
    "        df[column_name] = df[column_name].replace(value, '', regex=isRegex)\n",
    "    df.to_csv(filename, index = False, sep=';')\n",
    "    \n",
    "replace_by_header(\"Schadstoffklasse\", FILE, \"Euro\", False)\n",
    "replace_by_header(\"CO₂-Emissionen2\",FILE, \"g/(komb.)\", False)\n",
    "replace_by_header(\"Leistung\",FILE, r\"\\(\\d+PS\\)\", True)"
   ]
  },
  {
   "cell_type": "markdown",
   "id": "cec81e80",
   "metadata": {},
   "source": []
  },
  {
   "cell_type": "code",
   "execution_count": 4,
   "id": "64c59942",
   "metadata": {},
   "outputs": [],
   "source": [
    "import pandas as pd\n",
    "from datetime import datetime\n",
    "import re\n",
    "\n",
    "FILE = \"D:/Ibo/SFP/SFP_Notebook/car_data_csv.csv\"\n",
    "\n",
    "def clean_column(column_name, filename):\n",
    "    df = pd.read_csv(filename, sep=';')\n",
    "    if column_name in df.columns:\n",
    "        df[column_name] = df[column_name].apply(lambda x: 24 if x == 'Neu' else (berechne_differenz(x, True) if re.match(r\"\\d{2}/\\d{4}\", x) else berechne_differenz(x, False)))\n",
    "    df.to_csv(filename, index = False, sep=';')\n",
    "\n",
    "def berechne_differenz(datum, monate):\n",
    "    datum = pd.to_datetime(datum)\n",
    "    aktuelles_datum = datetime.now()  \n",
    "    if monate:\n",
    "        differenz = (datum.year - aktuelles_datum.year) * 12 + datum.month - aktuelles_datum.month\n",
    "    else:\n",
    "        differenz = aktuelles_datum.year - datum.year\n",
    "    return differenz\n",
    "\n",
    "clean_column(\"Erstzulassung\", FILE)\n",
    "clean_column(\"HU\", FILE)"
   ]
  },
  {
   "cell_type": "code",
   "execution_count": 5,
   "id": "98b9bb9f",
   "metadata": {},
   "outputs": [],
   "source": [
    "FILE = \"D:/Ibo/SFP/SFP_Notebook/car_data_csv.csv\"\n",
    "\n",
    "def replace_by_header_contains(column_name, filename, substring, new_value):\n",
    "    df = pd.read_csv(filename, sep=';')\n",
    "    if column_name in df.columns:\n",
    "        df[column_name] = df[column_name].apply(lambda x: new_value if substring in x else x)\n",
    "    df.to_csv(filename, index=False, sep=';')\n",
    "\n",
    "replace_by_header_contains(\"Kraftstoff\", FILE, \"Benzin\", \"Benzin\")\n",
    "replace_by_header_contains(\"Kraftstoff\", FILE, \"Super\", \"Benzin\")\n",
    "replace_by_header_contains(\"Kraftstoff\", FILE, \"Diesel\", \"Diesel\")\n",
    "replace_by_header_contains(\"Kraftstoff\", FILE, \"gas\", \"Gas\")"
   ]
  },
  {
   "cell_type": "markdown",
   "id": "66c749aa",
   "metadata": {},
   "source": []
  }
 ],
 "metadata": {
  "kernelspec": {
   "display_name": "Python 3 (ipykernel)",
   "language": "python",
   "name": "python3"
  },
  "language_info": {
   "codemirror_mode": {
    "name": "ipython",
    "version": 3
   },
   "file_extension": ".py",
   "mimetype": "text/x-python",
   "name": "python",
   "nbconvert_exporter": "python",
   "pygments_lexer": "ipython3",
   "version": "3.12.0"
  }
 },
 "nbformat": 4,
 "nbformat_minor": 5
}
