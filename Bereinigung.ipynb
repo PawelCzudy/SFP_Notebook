{
 "cells": [
  {
   "cell_type": "code",
   "execution_count": 13,
   "id": "c9559192",
   "metadata": {},
   "outputs": [],
   "source": [
    "import pandas as pd\n",
    "\n",
    "def replace_by_header(column_name, filename, value, isRegex):      \n",
    "    df = pd.read_csv(filename, sep=';')\n",
    "    if column_name in df.columns:\n",
    "        df[column_name] = df[column_name].str.replace(value, '', regex=isRegex)\n",
    "    df.to_csv(filename, index = False, sep=';')\n",
    "    \n",
    "replace_by_header(\"Schadstoffklasse\", \"D:/AWIS/Semester_03/SFP/Webscraper_Autoscout/SFP_Workspace/car_data_csv.csv\", \"Euro\", False)\n",
    "replace_by_header(\"CO₂-Emissionen2\",\"D:/AWIS/Semester_03/SFP/Webscraper_Autoscout/SFP_Workspace/car_data_csv.csv\", \"g/(komb.)\", False)\n",
    "replace_by_header(\"Leistung\",\"D:/AWIS/Semester_03/SFP/Webscraper_Autoscout/SFP_Workspace/car_data_csv.csv\", r\"\\(\\d+PS\\)\", True)"
   ]
  },
  {
   "cell_type": "markdown",
   "id": "cec81e80",
   "metadata": {},
   "source": []
  },
  {
   "cell_type": "code",
   "execution_count": 18,
   "id": "98b9bb9f",
   "metadata": {},
   "outputs": [],
   "source": [
    "def replace_by_header_contains(column_name, filename, substring, new_value):\n",
    "    df = pd.read_csv(filename, sep=';')\n",
    "    if column_name in df.columns:\n",
    "        df[column_name] = df[column_name].apply(lambda x: new_value if substring in x else x)\n",
    "    df.to_csv(filename, index=False, sep=';')\n",
    "\n",
    "replace_by_header_contains(\"Kraftstoff\", \"D:/AWIS/Semester_03/SFP/Webscraper_Autoscout/SFP_Workspace/car_data_csv.csv\", \"Benzin\", \"Benzin\")\n",
    "replace_by_header_contains(\"Kraftstoff\", \"D:/AWIS/Semester_03/SFP/Webscraper_Autoscout/SFP_Workspace/car_data_csv.csv\", \"Super\", \"Benzin\")\n",
    "replace_by_header_contains(\"Kraftstoff\", \"D:/AWIS/Semester_03/SFP/Webscraper_Autoscout/SFP_Workspace/car_data_csv.csv\", \"Diesel\", \"Diesel\")\n",
    "replace_by_header_contains(\"Kraftstoff\", \"D:/AWIS/Semester_03/SFP/Webscraper_Autoscout/SFP_Workspace/car_data_csv.csv\", \"gas\", \"Gas\")"
   ]
  },
  {
   "cell_type": "markdown",
   "id": "66c749aa",
   "metadata": {},
   "source": []
  }
 ],
 "metadata": {
  "kernelspec": {
   "display_name": "Python 3 (ipykernel)",
   "language": "python",
   "name": "python3"
  },
  "language_info": {
   "codemirror_mode": {
    "name": "ipython",
    "version": 3
   },
   "file_extension": ".py",
   "mimetype": "text/x-python",
   "name": "python",
   "nbconvert_exporter": "python",
   "pygments_lexer": "ipython3",
   "version": "3.12.0"
  }
 },
 "nbformat": 4,
 "nbformat_minor": 5
}
