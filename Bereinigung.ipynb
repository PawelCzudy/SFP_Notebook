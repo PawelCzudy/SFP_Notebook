{
 "cells": [
  {
   "cell_type": "code",
   "execution_count": 8,
   "id": "c9559192",
   "metadata": {},
   "outputs": [],
   "source": [
    "import pandas as pd\n",
    "\n",
    "def clean_column(column_name, filename):      \n",
    "    df = pd.read_csv(filename, sep=\";\")\n",
    "    if column_name in df.columns:\n",
    "        df[column_name] = df[column_name].str.replace(r'[^0-9.]', '', regex=True)\n",
    "    df.to_csv(filename, index = False)\n",
    "\n",
    "    \n",
    "clean_column(\"Schadstoffklasse\", \"D:/Ibo/SFP/SFP_Notebook/car_data_csv.csv\")"
   ]
  },
  {
   "cell_type": "code",
   "execution_count": 9,
   "id": "621596e1",
   "metadata": {},
   "outputs": [],
   "source": [
    "clean_column(\"CO₂-Emissionen2\",\"D:/Ibo/SFP/SFP_Notebook/car_data_csv.csv\")"
   ]
  },
  {
   "cell_type": "markdown",
   "id": "cec81e80",
   "metadata": {},
   "source": []
  },
  {
   "cell_type": "markdown",
   "id": "66c749aa",
   "metadata": {},
   "source": []
  }
 ],
 "metadata": {
  "kernelspec": {
   "display_name": "Python 3 (ipykernel)",
   "language": "python",
   "name": "python3"
  },
  "language_info": {
   "codemirror_mode": {
    "name": "ipython",
    "version": 3
   },
   "file_extension": ".py",
   "mimetype": "text/x-python",
   "name": "python",
   "nbconvert_exporter": "python",
   "pygments_lexer": "ipython3",
   "version": "3.12.0"
  }
 },
 "nbformat": 4,
 "nbformat_minor": 5
}
