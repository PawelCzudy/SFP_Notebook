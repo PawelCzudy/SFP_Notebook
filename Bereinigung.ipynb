{
 "cells": [
  {
   "cell_type": "code",
   "execution_count": 6,
   "id": "c9559192",
   "metadata": {},
   "outputs": [],
   "source": [
    "import pandas as pd\n",
    "\n",
    "def clean_column(column_name, filename, value):      \n",
    "    df = pd.read_csv(filename, sep=';')\n",
    "    if column_name in df.columns:\n",
    "        df[column_name] = df[column_name].str.replace(value, '')\n",
    "    df.to_csv(filename, index = False, sep=';')\n",
    "\n",
    "    \n",
    "clean_column(\"Schadstoffklasse\", \"D:/AWIS/Semester_03/SFP/Webscraper_Autoscout/SFP_Workspace/car_data_csv.csv\", \"Euro\")\n",
    "clean_column(\"CO₂-Emissionen2\",\"D:/AWIS/Semester_03/SFP/Webscraper_Autoscout/SFP_Workspace/car_data_csv.csv\", \"g/(komb.)\")"
   ]
  },
  {
   "cell_type": "markdown",
   "id": "cec81e80",
   "metadata": {},
   "source": []
  },
  {
   "cell_type": "markdown",
   "id": "66c749aa",
   "metadata": {},
   "source": []
  }
 ],
 "metadata": {
  "kernelspec": {
   "display_name": "Python 3 (ipykernel)",
   "language": "python",
   "name": "python3"
  },
  "language_info": {
   "codemirror_mode": {
    "name": "ipython",
    "version": 3
   },
   "file_extension": ".py",
   "mimetype": "text/x-python",
   "name": "python",
   "nbconvert_exporter": "python",
   "pygments_lexer": "ipython3",
   "version": "3.12.0"
  }
 },
 "nbformat": 4,
 "nbformat_minor": 5
}
