{
 "cells": [
  {
   "cell_type": "code",
   "execution_count": null,
   "metadata": {},
   "outputs": [],
   "source": [
    "import pandas as pd\n",
    "import matplotlib.pyplot as plt\n",
    "import numpy as np\n",
    "import seaborn as sns\n",
    "import pandas as pd\n",
    "from sklearn.model_selection import train_test_split\n",
    "from sklearn.linear_model import LinearRegression\n",
    "from sklearn.preprocessing import OneHotEncoder\n",
    "from sklearn.compose import make_column_transformer\n",
    "from sklearn.pipeline import make_pipeline\n",
    "\n",
    "#df = pd.read_csv('D:/AWIS/Semester_03/SFP/Webscraper_Autoscout/SFP_Workspace/car_data_csv.csv',sep=';')\n",
    "df = pd.read_csv('C:/Dev/VSCode/sf/SFP_Notebook/car_data_csv.csv',sep=';')\n",
    "\n",
    "df.describe(include='all')\n",
    "# df.dtypes\n"
   ]
  },
  {
   "cell_type": "code",
   "execution_count": null,
   "metadata": {},
   "outputs": [],
   "source": [
    "#Beschreibung der Verbrauchsverteilung in Liter\n",
    "df.Verbrauch.describe()"
   ]
  },
  {
   "cell_type": "code",
   "execution_count": null,
   "metadata": {},
   "outputs": [],
   "source": [
    "#Unterteilung des Datensatzes in Benzin, Diesel und Gas Kraftfahrzeuge\n",
    "benzinkfz = df[df['Kraftstoff'] == 'Benzin']\n",
    "dieselkfz = df[df['Kraftstoff'] == 'Diesel']\n",
    "gaskfz = df[df['Kraftstoff'] == 'Gas']"
   ]
  },
  {
   "cell_type": "code",
   "execution_count": null,
   "metadata": {},
   "outputs": [],
   "source": [
    "benzinkfz.Verbrauch.describe()"
   ]
  },
  {
   "cell_type": "code",
   "execution_count": null,
   "metadata": {},
   "outputs": [],
   "source": [
    "dieselkfz.Verbrauch.describe()"
   ]
  },
  {
   "cell_type": "code",
   "execution_count": null,
   "metadata": {},
   "outputs": [],
   "source": [
    "gaskfz.Verbrauch.describe()"
   ]
  },
  {
   "cell_type": "code",
   "execution_count": null,
   "metadata": {},
   "outputs": [],
   "source": [
    "#Gibt die Anzahl der KFZ der unterschiedlichen Kraftstoffe aus\n",
    "anzahl_benzin_kfz = df['Kraftstoff'].value_counts()['Benzin']\n",
    "anzahl_diesel_kfz = df['Kraftstoff'].value_counts()['Diesel']\n",
    "anzahl_gas_kfz = df['Kraftstoff'].value_counts()['Gas']\n",
    "\n",
    "print(f\"Anzahl der Benzin-KFZ: {anzahl_benzin_kfz}\")\n",
    "print(f\"Anzahl der Diesel-KFZ: {anzahl_diesel_kfz}\")\n",
    "print(f\"Anzahl der Gas-KFZ: {anzahl_gas_kfz}\")"
   ]
  },
  {
   "cell_type": "code",
   "execution_count": null,
   "metadata": {},
   "outputs": [],
   "source": [
    "#Ausgabe Spannweite und Quartilsabstand des Verbrauchs bei Benzin KFZ\n",
    "\n",
    "lagemasseb= benzinkfz.Verbrauch.describe()\n",
    "spannweiteb= lagemasseb[\"max\"]- lagemasseb[\"min\"]\n",
    "quartilsabstandb = lagemasseb[\"75%\"] - lagemasseb[\"25%\"]\n",
    "\n",
    "print (spannweiteb)\n",
    "print (quartilsabstandb)"
   ]
  },
  {
   "cell_type": "code",
   "execution_count": null,
   "metadata": {},
   "outputs": [],
   "source": [
    "#Ausgabe Spannweite und Quartilsabstand des Verbrauchs bei Diesel KFZ\n",
    "\n",
    "lagemasseb= dieselkfz.Verbrauch.describe()\n",
    "spannweiteb= lagemasseb[\"max\"]- lagemasseb[\"min\"]\n",
    "quartilsabstandb = lagemasseb[\"75%\"] - lagemasseb[\"25%\"]\n",
    "\n",
    "print (spannweiteb)\n",
    "print (quartilsabstandb)"
   ]
  },
  {
   "cell_type": "code",
   "execution_count": null,
   "metadata": {},
   "outputs": [],
   "source": [
    "import matplotlib.pyplot as plt\n",
    "\n",
    "# Erstellung Klassengrößen von 1 Liter\n",
    "klassengroessen = range(3, int(benzinkfz['Verbrauch'].max()) + 1, 1)\n",
    "\n",
    "# Berechne die absolute Häufigkeit pro Klasse\n",
    "absolute_haeufigkeit = pd.cut(benzinkfz['Verbrauch'], bins=klassengroessen).value_counts().sort_index()\n",
    "\n",
    "# Erstelle das Balkendiagramm\n",
    "plt.bar(absolute_haeufigkeit.index.astype(str), absolute_haeufigkeit)\n",
    "\n",
    "# Beschriftungen hinzufügen\n",
    "plt.xlabel('Verbrauch (Klassengröße 1 Liter)')\n",
    "plt.ylabel('Absolute Häufigkeit')\n",
    "plt.title('Absolute Häufigkeit des Verbrauchs')\n",
    "\n",
    "# Die x-Achsenwerte werden um 90Crad gedreht\n",
    "plt.tick_params(axis='x', rotation=90)\n",
    "\n",
    "# Zeigt das Diagramm an\n",
    "plt.show()"
   ]
  },
  {
   "cell_type": "code",
   "execution_count": null,
   "metadata": {},
   "outputs": [],
   "source": [
    "import matplotlib.pyplot as plt\n",
    "\n",
    "# Erstellung Klassengrößen von 1 Liter\n",
    "klassengroessen = range(3, int(dieselkfz['Verbrauch'].max()) + 1, 1)\n",
    "\n",
    "# Berechne die absolute Häufigkeit pro Klasse\n",
    "absolute_haeufigkeit = pd.cut(dieselkfz['Verbrauch'], bins=klassengroessen).value_counts().sort_index()\n",
    "\n",
    "# Erstelle das Balkendiagramm\n",
    "plt.bar(absolute_haeufigkeit.index.astype(str), absolute_haeufigkeit)\n",
    "\n",
    "# Beschriftungen hinzufügen\n",
    "plt.xlabel('Verbrauch (Klassengröße 1 Liter)')\n",
    "plt.ylabel('Absolute Häufigkeit')\n",
    "plt.title('Absolute Häufigkeit des Verbrauchs')\n",
    "\n",
    "# Die x-Achsenwerte werden um 90Crad gedreht\n",
    "plt.tick_params(axis='x', rotation=90)\n",
    "\n",
    "# Zeigt das Diagramm an\n",
    "plt.show()"
   ]
  },
  {
   "cell_type": "code",
   "execution_count": null,
   "metadata": {},
   "outputs": [],
   "source": [
    "import matplotlib.pyplot as plt\n",
    "import pandas as pd\n",
    "\n",
    "\n",
    "\n",
    "# Statistische Kennzahlen für den Barzahlungspreis für jede Verbrauchsausprägung\n",
    "statistiken_nach_verbrauch = benzinkfz.groupby('Verbrauch')['Barzahlungspreis'].describe()\n",
    "\n",
    "# Erstelle ein Liniendiagramm für den Durchschnittspreis (mean),\n",
    "# 25%, 50%, 75%, Min und Max\n",
    "statistiken_nach_verbrauch[['mean', '25%', '50%', '75%', 'min', 'max']].plot(kind='line')\n",
    "\n",
    "# Beschriftungen hinzufügen\n",
    "plt.xlabel('Verbrauch')\n",
    "plt.ylabel('Barzahlungspreis')\n",
    "plt.title('Beschreibung des Barzahlungspreises nach Verbrauch')\n",
    "\n",
    "# Zeige das Diagramm an\n",
    "plt.show()"
   ]
  },
  {
   "cell_type": "code",
   "execution_count": null,
   "metadata": {},
   "outputs": [],
   "source": [
    "import matplotlib.pyplot as plt\n",
    "import pandas as pd\n",
    "\n",
    "# Statistische Kennzahlen für den Barzahlungspreis für jede Verbrauchsausprägung\n",
    "statistiken_nach_verbrauch = dieselkfz.groupby('Verbrauch')['Barzahlungspreis'].describe()\n",
    "\n",
    "# Erstelle ein Liniendiagramm für den Durchschnittspreis (mean),\n",
    "# 25%, 50%, 75%, Min und Max\n",
    "statistiken_nach_verbrauch[['mean', '25%', '50%', '75%', 'min', 'max']].plot(kind='line')\n",
    "\n",
    "# Beschriftungen hinzufügen\n",
    "plt.xlabel('Verbrauch')\n",
    "plt.ylabel('Barzahlungspreis')\n",
    "plt.title('Beschreibung des Barzahlungspreises nach Verbrauch')\n",
    "\n",
    "# Zeige das Diagramm an\n",
    "plt.show()"
   ]
  },
  {
   "cell_type": "code",
   "execution_count": null,
   "metadata": {},
   "outputs": [],
   "source": [
    "# Finde den Index (Zeilennummer) des billigsten Gebrauchtwagens\n",
    "index_des_billigsten = df['Barzahlungspreis'].idxmin()\n",
    "\n",
    "# Greife auf die gesamte Zeile des billigsten Gebrauchtwagens zu\n",
    "billigster_gebrauchtwagen = df.loc[index_des_billigsten]\n",
    "\n",
    "# Gib die Informationen zum billigsten Gebrauchtwagen aus\n",
    "print(\"Informationen zum billigsten Gebrauchtwagen:\")\n",
    "print(billigster_gebrauchtwagen)"
   ]
  },
  {
   "cell_type": "code",
   "execution_count": null,
   "metadata": {},
   "outputs": [],
   "source": [
    "import matplotlib.pyplot as plt\n",
    "\n",
    "# Hier wird nach Benzin-Fahrzeugen gefiltert\n",
    "benzin_df = df[df['Kraftstoff'] == 'Benzin']\n",
    "\n",
    "# Erstelle das Histogramm mit Klassen von 500€ Schritten\n",
    "plt.hist(benzin_df['Barzahlungspreis'], bins=range(1000, int(benzin_df['Barzahlungspreis'].max()) + 500, 500), edgecolor='black')\n",
    "\n",
    "# Beschriftungen hinzufügen\n",
    "plt.xlabel('Barzahlungspreis insgesamt')\n",
    "plt.ylabel('Absolute Häufigkeit')\n",
    "plt.title('Histogramm des Barzahlungspreises Kraftstoff Benzin')\n",
    "\n",
    "# Zeige das Diagramm an\n",
    "plt.show()"
   ]
  },
  {
   "cell_type": "code",
   "execution_count": null,
   "metadata": {},
   "outputs": [],
   "source": [
    "import matplotlib.pyplot as plt\n",
    "\n",
    "# Hier wird nach Benzin-Fahrzeugen gefiltert\n",
    "benzin_df = df[df['Kraftstoff'] == 'Diesel']\n",
    "\n",
    "# Erstelle das Histogramm mit Klassen von 500€ Schritten\n",
    "plt.hist(benzin_df['Barzahlungspreis'], bins=range(0, int(benzin_df['Barzahlungspreis'].max()) + 500, 500), edgecolor='black')\n",
    "\n",
    "# Beschriftungen hinzufügen\n",
    "plt.xlabel('Barzahlungspreis insgesamt')\n",
    "plt.ylabel('Absolute Häufigkeit')\n",
    "plt.title('Histogramm des Barzahlungspreises Kraftstoff Diesel')\n",
    "\n",
    "# Zeige das Diagramm an\n",
    "plt.show()"
   ]
  },
  {
   "cell_type": "code",
   "execution_count": null,
   "metadata": {},
   "outputs": [],
   "source": [
    "import matplotlib.pyplot as plt\n",
    "import pandas as pd\n",
    "\n",
    "\n",
    "# Funktion, um das Kuchendiagramm zu erstellen\n",
    "def erstelle_kuchendiagramm(df, preisbereich):\n",
    "    # Filtert nach dem Preisbereich und Benzin-Fahrzeugen\n",
    "    preis_df = df[(df['Barzahlungspreis'] >= preisbereich[0]) & (df['Barzahlungspreis'] <= preisbereich[1]) & (df['Kraftstoff'] == 'Benzin')]\n",
    "    \n",
    "    # Berechnet relative Häufigkeiten des Verbrauchs in 1-Liter-Schritten\n",
    "    verbrauch_haeufigkeiten = preis_df['Verbrauch'].value_counts(normalize=True, bins=range(3, 11)).sort_index()\n",
    "\n",
    "    # Erstellt das Kuchendiagramm mit Prozentangaben am Rand\n",
    "    plt.pie(verbrauch_haeufigkeiten, labels=verbrauch_haeufigkeiten.index, autopct='%1.1f%%', startangle=90, pctdistance=0.85)\n",
    "    plt.title(f'Relative Häufigkeiten des Verbrauchs für Benzin-Fahrzeuge\\nPreisbereich: {preisbereich[0]}€ - {preisbereich[1]}€')\n",
    "\n",
    "    # Zeigt das Diagramm an\n",
    "    plt.show()\n",
    "\n",
    "# Erstellt die Diagramme für die verschiedenen Preisbereiche\n",
    "erstelle_kuchendiagramm(benzinkfz, (999, 2999))\n",
    "erstelle_kuchendiagramm(benzinkfz, (3000, 7999))\n",
    "erstelle_kuchendiagramm(benzinkfz, (8000, 11999))\n",
    "erstelle_kuchendiagramm(benzinkfz, (12000, 14999))\n",
    "\n",
    "plt.tight_layout()"
   ]
  },
  {
   "cell_type": "code",
   "execution_count": null,
   "metadata": {},
   "outputs": [],
   "source": [
    "import matplotlib.pyplot as plt\n",
    "import pandas as pd\n",
    "\n",
    "\n",
    "# Funktion, um das Kuchendiagramm zu erstellen\n",
    "def erstelle_kuchendiagramm(df, preisbereich):\n",
    "    # Filtert nach dem Preisbereich und Benzin-Fahrzeugen\n",
    "    preis_df = df[(df['Barzahlungspreis'] >= preisbereich[0]) & (df['Barzahlungspreis'] <= preisbereich[1]) & (df['Kraftstoff'] == 'Diesel')]\n",
    "    \n",
    "    # Berechnet relative Häufigkeiten des Verbrauchs in 1-Liter-Schritten\n",
    "    verbrauch_haeufigkeiten = preis_df['Verbrauch'].value_counts(normalize=True, bins=range(3, 11)).sort_index()\n",
    "\n",
    "    # Erstellt das Kuchendiagramm mit Prozentangaben am Rand\n",
    "    plt.pie(verbrauch_haeufigkeiten, labels=verbrauch_haeufigkeiten.index, autopct='%1.1f%%', startangle=90, pctdistance=0.85)\n",
    "    plt.title(f'Relative Häufigkeiten des Verbrauchs für Diesel-Fahrzeuge\\nPreisbereich: {preisbereich[0]}€ - {preisbereich[1]}€')\n",
    "\n",
    "    # Zeigt das Diagramm an\n",
    "    plt.show()\n",
    "\n",
    "# Erstellt die Diagramme für die verschiedenen Preisbereiche\n",
    "erstelle_kuchendiagramm(dieselkfz, (999, 2999))\n",
    "erstelle_kuchendiagramm(dieselkfz, (3000, 7999))\n",
    "erstelle_kuchendiagramm(dieselkfz, (8000, 11999))\n",
    "erstelle_kuchendiagramm(dieselkfz, (12000, 14999))\n",
    "\n",
    "plt.tight_layout()"
   ]
  }
 ],
 "metadata": {
  "kernelspec": {
   "display_name": "Python 3",
   "language": "python",
   "name": "python3"
  },
  "language_info": {
   "codemirror_mode": {
    "name": "ipython",
    "version": 3
   },
   "file_extension": ".py",
   "mimetype": "text/x-python",
   "name": "python",
   "nbconvert_exporter": "python",
   "pygments_lexer": "ipython3",
   "version": "3.12.0"
  }
 },
 "nbformat": 4,
 "nbformat_minor": 2
}
